{
 "cells": [
  {
   "cell_type": "markdown",
   "id": "218a3de9-4029-4a3b-9136-0719feaed341",
   "metadata": {},
   "source": [
    "# This is Heart Disease Prediction Project\n",
    "#### We are going to predict based on the data whether or not someone have the heart disease\n",
    "\n",
    "* 1) Problem Definition\n",
    "* 2) Data\n",
    "* 3) Evaluate\n",
    "* 4) Features\n",
    "* 5) Modelling\n",
    "* 6) Experimentations"
   ]
  },
  {
   "cell_type": "markdown",
   "id": "ad255e10-ab7d-4d61-bb78-e1a7f82f6880",
   "metadata": {},
   "source": [
    "### 1) Problem Definition\n",
    "> Based on the given data we need to predict if a patient has a heart disease or not"
   ]
  },
  {
   "cell_type": "markdown",
   "id": "59d54e28-31ee-4fbc-99ec-e35ab2d512a6",
   "metadata": {},
   "source": [
    "### 2) Data\n",
    "> We have the data and have loaded it already"
   ]
  },
  {
   "cell_type": "markdown",
   "id": "7200fa8d-4b46-4183-ad29-beda55a7bff3",
   "metadata": {},
   "source": [
    "### 3) Evaluate\n",
    "> In inital stages we need to make sure if our model gives us the accuracy of 95%. "
   ]
  },
  {
   "cell_type": "code",
   "execution_count": 3,
   "id": "4a9c9b18-1e75-41a4-9670-3fd01383a0f0",
   "metadata": {},
   "outputs": [
    {
     "name": "stderr",
     "output_type": "stream",
     "text": [
      "fatal: not a git repository (or any of the parent directories): .git\n"
     ]
    }
   ],
   "source": [
    "!git status"
   ]
  },
  {
   "cell_type": "code",
   "execution_count": 4,
   "id": "4a447f19-c956-4fbf-8154-c4d834d9f2a0",
   "metadata": {},
   "outputs": [
    {
     "name": "stdout",
     "output_type": "stream",
     "text": [
      "git version 2.45.2.windows.1\n"
     ]
    }
   ],
   "source": [
    "!git --version\n"
   ]
  },
  {
   "cell_type": "code",
   "execution_count": null,
   "id": "04517920-cfb1-4e90-8892-a9165fc05d8e",
   "metadata": {},
   "outputs": [],
   "source": []
  }
 ],
 "metadata": {
  "kernelspec": {
   "display_name": "Python 3 (ipykernel)",
   "language": "python",
   "name": "python3"
  },
  "language_info": {
   "codemirror_mode": {
    "name": "ipython",
    "version": 3
   },
   "file_extension": ".py",
   "mimetype": "text/x-python",
   "name": "python",
   "nbconvert_exporter": "python",
   "pygments_lexer": "ipython3",
   "version": "3.12.8"
  }
 },
 "nbformat": 4,
 "nbformat_minor": 5
}
